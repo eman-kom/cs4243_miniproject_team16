{
  "cells": [
    {
      "cell_type": "markdown",
      "metadata": {
        "id": "RXdxQJ_9Abqn"
      },
      "source": [
        "### Clone Repository and Install Dependencies"
      ]
    },
    {
      "cell_type": "code",
      "execution_count": null,
      "metadata": {
        "id": "HYhqzfieWYR7"
      },
      "outputs": [],
      "source": [
        "!git clone https://github.com/pratyushghosh/cs4243_miniproject_team16"
      ]
    },
    {
      "cell_type": "code",
      "execution_count": null,
      "metadata": {
        "id": "56X1vVJZXf2Z"
      },
      "outputs": [],
      "source": [
        "!pip install tensorflow==1.15.5 pandas==1.2.0 opencv-python matplotlib tensorflow-object-detection-api"
      ]
    },
    {
      "cell_type": "code",
      "execution_count": null,
      "metadata": {
        "id": "ZqvJxUN1IPIg"
      },
      "outputs": [],
      "source": [
        "cd /content/cs4243_miniproject_team16"
      ]
    },
    {
      "cell_type": "code",
      "execution_count": null,
      "metadata": {
        "id": "VQ7au0CkoBvy"
      },
      "outputs": [],
      "source": [
        "mkdir test_images"
      ]
    },
    {
      "cell_type": "markdown",
      "metadata": {
        "id": "3W0aY4Lysbl9"
      },
      "source": [
        "### Build OpenPose"
      ]
    },
    {
      "cell_type": "code",
      "execution_count": null,
      "metadata": {
        "id": "yt0CWmdaEnE7"
      },
      "outputs": [],
      "source": [
        "!git clone https://github.com/CMU-Perceptual-Computing-Lab/openpose"
      ]
    },
    {
      "cell_type": "code",
      "execution_count": null,
      "metadata": {
        "id": "z61UG_nUFza9"
      },
      "outputs": [],
      "source": [
        "cd openpose"
      ]
    },
    {
      "cell_type": "code",
      "execution_count": null,
      "metadata": {
        "id": "4hoiDCyUF13y"
      },
      "outputs": [],
      "source": [
        "!git submodule update --init --recursive --remote"
      ]
    },
    {
      "cell_type": "code",
      "execution_count": null,
      "metadata": {
        "id": "NscHGMEbF873"
      },
      "outputs": [],
      "source": [
        "!mkdir build"
      ]
    },
    {
      "cell_type": "code",
      "execution_count": null,
      "metadata": {
        "id": "_NsHG8Q6GQfZ"
      },
      "outputs": [],
      "source": [
        "cd build"
      ]
    },
    {
      "cell_type": "code",
      "execution_count": null,
      "metadata": {
        "id": "RCMeN73EGUwC"
      },
      "outputs": [],
      "source": [
        "!sudo apt-get install protobuf-compiler libprotobuf-dev libgoogle-glog-dev"
      ]
    },
    {
      "cell_type": "code",
      "execution_count": null,
      "metadata": {
        "colab": {
          "background_save": true
        },
        "id": "e4sTI9aMGn2N"
      },
      "outputs": [],
      "source": [
        "!cmake -DBUILD_PYTHON=TRUE -S /content/cs4243_miniproject_team16/openpose/ -B /content/cs4243_miniproject_team16/openpose/build/"
      ]
    },
    {
      "cell_type": "code",
      "execution_count": null,
      "metadata": {
        "id": "4qwnf5g-NS8L"
      },
      "outputs": [],
      "source": [
        "!make -j`nproc`"
      ]
    },
    {
      "cell_type": "code",
      "execution_count": null,
      "metadata": {
        "id": "kXmCBgr-S1Lb"
      },
      "outputs": [],
      "source": [
        "!cp /content/cs4243_miniproject_team16/openpose/build/examples/openpose/openpose.bin /content/cs4243_miniproject_team16/openpose/openpose.bin"
      ]
    },
    {
      "cell_type": "markdown",
      "metadata": {
        "id": "uMYpjthrAuOn"
      },
      "source": [
        "### Place Input Images Inside /content/cs4243_miniproject_team16/test_images"
      ]
    },
    {
      "cell_type": "markdown",
      "metadata": {
        "id": "xEfl_3niskMV"
      },
      "source": [
        "### Run Model"
      ]
    },
    {
      "cell_type": "code",
      "execution_count": null,
      "metadata": {
        "id": "bAPxYek8Akyy"
      },
      "outputs": [],
      "source": [
        "cd /content/cs4243_miniproject_team16/"
      ]
    },
    {
      "cell_type": "code",
      "execution_count": null,
      "metadata": {
        "id": "k1WkyDiJAjzS"
      },
      "outputs": [],
      "source": [
        "!python model_a_code.py"
      ]
    },
    {
      "cell_type": "code",
      "execution_count": null,
      "metadata": {
        "id": "DoHwhPKwsjXc"
      },
      "outputs": [],
      "source": [
        "cd /content/cs4243_miniproject_team16/openpose"
      ]
    },
    {
      "cell_type": "code",
      "execution_count": null,
      "metadata": {
        "id": "mK6WYRcOuzBF"
      },
      "outputs": [],
      "source": [
        "!./openpose.bin --image_dir /content/cs4243_miniproject_team16/openpose_input --write_json /content/cs4243_miniproject_team16/model_b_input/ --display 0 --render_pose 0"
      ]
    },
    {
      "cell_type": "code",
      "execution_count": null,
      "metadata": {
        "id": "5iVpCB9iJohG"
      },
      "outputs": [],
      "source": [
        "cd /content/cs4243_miniproject_team16/"
      ]
    },
    {
      "cell_type": "code",
      "execution_count": null,
      "metadata": {
        "id": "b8IrBDC3yOei"
      },
      "outputs": [],
      "source": [
        "!python model_b_code.py"
      ]
    },
    {
      "cell_type": "markdown",
      "metadata": {
        "id": "4HC8HmWVHMmk"
      },
      "source": [
        "### Normal Outputs Are In /content/cs4243_miniproject_team16/normal\n",
        "\n",
        "### Threat Outputs Are In /content/cs4243_miniproject_team16/threat\n",
        "\n",
        "### Carrying Outputs Are In /content/cs4243_miniproject_team16/carrying"
      ]
    },
    {
      "cell_type": "markdown",
      "metadata": {
        "id": "kS4WOp-oL_-z"
      },
      "source": [
        "### Generate Confusion Matrix (Only For Filenames Containing Label)"
      ]
    },
    {
      "cell_type": "code",
      "execution_count": null,
      "metadata": {
        "id": "oiu-QGbgLnMe"
      },
      "outputs": [],
      "source": [
        "import numpy as np\n",
        "import glob\n",
        "import os\n",
        "from sklearn import metrics\n",
        "\n",
        "y_true = []\n",
        "y_predicted = []\n",
        "\n",
        "for file in glob.glob('/content/cs4243_miniproject_team16/normal/*.jpg'):\n",
        " if('normal' in os.path.basename(file)):\n",
        "   y_true.append('normal')\n",
        "   y_predicted.append('normal')\n",
        " elif('carrying' in os.path.basename(file)):\n",
        "   y_true.append('carrying')\n",
        "   y_predicted.append('normal')\n",
        " elif('threat' in os.path.basename(file)):\n",
        "   y_true.append('threat')\n",
        "   y_predicted.append('normal')\n",
        "\n",
        "for file in glob.glob('/content/cs4243_miniproject_team16/carrying/*.jpg'):\n",
        " if('normal' in os.path.basename(file)):\n",
        "   y_true.append('normal')\n",
        "   y_predicted.append('carrying')\n",
        " elif('carrying' in os.path.basename(file)):\n",
        "   y_true.append('carrying')\n",
        "   y_predicted.append('carrying')\n",
        " elif('threat' in os.path.basename(file)):\n",
        "   y_true.append('threat')\n",
        "   y_predicted.append('carrying')\n",
        "\n",
        "for file in glob.glob('/content/cs4243_miniproject_team16/threat/*.jpg'):\n",
        " if('normal' in os.path.basename(file)):\n",
        "   y_true.append('normal')\n",
        "   y_predicted.append('threat')\n",
        " elif('carrying' in os.path.basename(file)):\n",
        "   y_true.append('carrying')\n",
        "   y_predicted.append('threat')\n",
        " elif('threat' in os.path.basename(file)):\n",
        "   y_true.append('threat')\n",
        "   y_predicted.append('threat')\n",
        "\n",
        "confusion_matrix = metrics.confusion_matrix(y_true, y_predicted, labels = ['normal', 'carrying', 'threat'])\n",
        "cm_display = metrics.ConfusionMatrixDisplay(confusion_matrix = confusion_matrix, display_labels = ['normal', 'carrying', 'threat'])\n",
        "cm_display.plot()\n",
        "\n",
        "correct = 0;\n",
        "for i in range(len(y_true)):\n",
        "  if (y_true[i] == y_predicted[i]):\n",
        "    correct = correct + 1\n",
        "\n",
        "accuracy = correct/len(y_true)\n",
        "print(\"Accuracy: \" + str(accuracy*100) + '%')\n"
      ]
    }
  ],
  "metadata": {
    "accelerator": "GPU",
    "colab": {
      "collapsed_sections": [
        "RXdxQJ_9Abqn",
        "3W0aY4Lysbl9"
      ],
      "machine_shape": "hm",
      "provenance": []
    },
    "gpuClass": "premium",
    "kernelspec": {
      "display_name": "Python 3",
      "name": "python3"
    },
    "language_info": {
      "name": "python"
    }
  },
  "nbformat": 4,
  "nbformat_minor": 0
}