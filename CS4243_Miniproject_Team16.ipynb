{
  "nbformat": 4,
  "nbformat_minor": 0,
  "metadata": {
    "colab": {
      "provenance": [],
      "collapsed_sections": [
        "RXdxQJ_9Abqn",
        "3W0aY4Lysbl9"
      ],
      "machine_shape": "hm"
    },
    "kernelspec": {
      "name": "python3",
      "display_name": "Python 3"
    },
    "language_info": {
      "name": "python"
    },
    "accelerator": "GPU",
    "gpuClass": "premium"
  },
  "cells": [
    {
      "cell_type": "markdown",
      "source": [
        "### Clone Repository and Install Dependencies"
      ],
      "metadata": {
        "id": "RXdxQJ_9Abqn"
      }
    },
    {
      "cell_type": "code",
      "execution_count": null,
      "metadata": {
        "id": "HYhqzfieWYR7"
      },
      "outputs": [],
      "source": [
        "!git clone https://github.com/pratyushghosh/cs4243_miniproject_team16"
      ]
    },
    {
      "cell_type": "code",
      "source": [
        "!pip install tensorflow==1.15.5 pandas==1.2.0 opencv-python matplotlib tensorflow-object-detection-api"
      ],
      "metadata": {
        "id": "56X1vVJZXf2Z"
      },
      "execution_count": null,
      "outputs": []
    },
    {
      "cell_type": "code",
      "source": [
        "cd /content/cs4243_miniproject_team16"
      ],
      "metadata": {
        "id": "ZqvJxUN1IPIg"
      },
      "execution_count": null,
      "outputs": []
    },
    {
      "cell_type": "markdown",
      "source": [
        "### Build OpenPose"
      ],
      "metadata": {
        "id": "3W0aY4Lysbl9"
      }
    },
    {
      "cell_type": "code",
      "execution_count": null,
      "metadata": {
        "id": "yt0CWmdaEnE7"
      },
      "outputs": [],
      "source": [
        "!git clone https://github.com/CMU-Perceptual-Computing-Lab/openpose"
      ]
    },
    {
      "cell_type": "code",
      "source": [
        "cd openpose"
      ],
      "metadata": {
        "id": "z61UG_nUFza9"
      },
      "execution_count": null,
      "outputs": []
    },
    {
      "cell_type": "code",
      "source": [
        "!git submodule update --init --recursive --remote"
      ],
      "metadata": {
        "id": "4hoiDCyUF13y"
      },
      "execution_count": null,
      "outputs": []
    },
    {
      "cell_type": "code",
      "source": [
        "!mkdir build"
      ],
      "metadata": {
        "id": "NscHGMEbF873"
      },
      "execution_count": null,
      "outputs": []
    },
    {
      "cell_type": "code",
      "source": [
        "cd build"
      ],
      "metadata": {
        "id": "_NsHG8Q6GQfZ"
      },
      "execution_count": null,
      "outputs": []
    },
    {
      "cell_type": "code",
      "source": [
        "!sudo apt-get install protobuf-compiler libprotobuf-dev libgoogle-glog-dev"
      ],
      "metadata": {
        "id": "RCMeN73EGUwC"
      },
      "execution_count": null,
      "outputs": []
    },
    {
      "cell_type": "code",
      "source": [
        "!cmake -DBUILD_PYTHON=TRUE -S /content/cs4243_miniproject_team16/openpose/ -B /content/cs4243_miniproject_team16/openpose/build/"
      ],
      "metadata": {
        "id": "e4sTI9aMGn2N"
      },
      "execution_count": null,
      "outputs": []
    },
    {
      "cell_type": "code",
      "source": [
        "!make -j`nproc`"
      ],
      "metadata": {
        "id": "4qwnf5g-NS8L"
      },
      "execution_count": null,
      "outputs": []
    },
    {
      "cell_type": "code",
      "source": [
        "!cp /content/cs4243_miniproject_team16/openpose/build/examples/openpose/openpose.bin /content/cs4243_miniproject_team16/openpose/openpose.bin"
      ],
      "metadata": {
        "id": "kXmCBgr-S1Lb"
      },
      "execution_count": null,
      "outputs": []
    },
    {
      "cell_type": "markdown",
      "source": [
        "### Place Input Images Inside /content/cs4243_miniproject_team16/test_images"
      ],
      "metadata": {
        "id": "uMYpjthrAuOn"
      }
    },
    {
      "cell_type": "markdown",
      "source": [
        "### Run Model"
      ],
      "metadata": {
        "id": "xEfl_3niskMV"
      }
    },
    {
      "cell_type": "code",
      "source": [
        "cd /content/cs4243_miniproject_team16/"
      ],
      "metadata": {
        "id": "bAPxYek8Akyy"
      },
      "execution_count": null,
      "outputs": []
    },
    {
      "cell_type": "code",
      "source": [
        "!python model_a_code.py"
      ],
      "metadata": {
        "id": "k1WkyDiJAjzS"
      },
      "execution_count": null,
      "outputs": []
    },
    {
      "cell_type": "code",
      "source": [
        "cd /content/cs4243_miniproject_team16/openpose"
      ],
      "metadata": {
        "id": "DoHwhPKwsjXc"
      },
      "execution_count": null,
      "outputs": []
    },
    {
      "cell_type": "code",
      "source": [
        "!./openpose.bin --image_dir /content/cs4243_miniproject_team16/openpose_input --write_json /content/cs4243_miniproject_team16/model_b_input/ --display 0 --render_pose 0"
      ],
      "metadata": {
        "id": "mK6WYRcOuzBF"
      },
      "execution_count": null,
      "outputs": []
    },
    {
      "cell_type": "code",
      "source": [
        "cd /content/cs4243_miniproject_team16/"
      ],
      "metadata": {
        "id": "5iVpCB9iJohG"
      },
      "execution_count": null,
      "outputs": []
    },
    {
      "cell_type": "code",
      "source": [
        "!python model_b_code.py"
      ],
      "metadata": {
        "id": "b8IrBDC3yOei"
      },
      "execution_count": null,
      "outputs": []
    },
    {
      "cell_type": "markdown",
      "source": [
        "### Normal Outputs Are In /content/cs4243_miniproject_team16/normal\n",
        "\n",
        "### Threat Outputs Are In /content/cs4243_miniproject_team16/threat\n",
        "\n",
        "### Carrying Outputs Are In /content/cs4243_miniproject_team16/carrying"
      ],
      "metadata": {
        "id": "4HC8HmWVHMmk"
      }
    },
    {
      "cell_type": "markdown",
      "source": [
        "### Generate Confusion Matrix (Only For Filenames Containing Label)"
      ],
      "metadata": {
        "id": "kS4WOp-oL_-z"
      }
    },
    {
      "cell_type": "code",
      "source": [
        "import numpy as np\n",
        "import glob\n",
        "import os\n",
        "from sklearn import metrics\n",
        "\n",
        "y_true = []\n",
        "y_predicted = []\n",
        "\n",
        "for file in glob.glob('/content/cs4243_miniproject_team16/normal/*.jpg'):\n",
        " if('normal' in os.path.basename(file)):\n",
        "   y_true.append('normal')\n",
        "   y_predicted.append('normal')\n",
        " elif('carrying' in os.path.basename(file)):\n",
        "   y_true.append('carrying')\n",
        "   y_predicted.append('normal')\n",
        " elif('threat' in os.path.basename(file)):\n",
        "   y_true.append('threat')\n",
        "   y_predicted.append('normal')\n",
        "\n",
        "for file in glob.glob('/content/cs4243_miniproject_team16/carrying/*.jpg'):\n",
        " if('normal' in os.path.basename(file)):\n",
        "   y_true.append('normal')\n",
        "   y_predicted.append('carrying')\n",
        " elif('carrying' in os.path.basename(file)):\n",
        "   y_true.append('carrying')\n",
        "   y_predicted.append('carrying')\n",
        " elif('threat' in os.path.basename(file)):\n",
        "   y_true.append('threat')\n",
        "   y_predicted.append('carrying')\n",
        "\n",
        "for file in glob.glob('/content/cs4243_miniproject_team16/threat/*.jpg'):\n",
        " if('normal' in os.path.basename(file)):\n",
        "   y_true.append('normal')\n",
        "   y_predicted.append('threat')\n",
        " elif('carrying' in os.path.basename(file)):\n",
        "   y_true.append('carrying')\n",
        "   y_predicted.append('threat')\n",
        " elif('threat' in os.path.basename(file)):\n",
        "   y_true.append('threat')\n",
        "   y_predicted.append('threat')\n",
        "\n",
        "confusion_matrix = metrics.confusion_matrix(y_true, y_predicted, labels = ['normal', 'carrying', 'threat'])\n",
        "cm_display = metrics.ConfusionMatrixDisplay(confusion_matrix = confusion_matrix, display_labels = ['normal', 'carrying', 'threat'])\n",
        "cm_display.plot()\n",
        "\n",
        "correct = 0;\n",
        "for i in range(len(y_true)):\n",
        "  if (y_true[i] == y_predicted[i]):\n",
        "    correct = correct + 1\n",
        "\n",
        "accuracy = correct/len(y_true)\n",
        "print(\"Accuracy: \" + str(accuracy*100) + '%')\n"
      ],
      "metadata": {
        "id": "oiu-QGbgLnMe"
      },
      "execution_count": null,
      "outputs": []
    }
  ]
}