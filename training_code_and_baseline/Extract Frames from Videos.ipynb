{
  "nbformat": 4,
  "nbformat_minor": 0,
  "metadata": {
    "colab": {
      "provenance": [],
      "collapsed_sections": [],
      "authorship_tag": "ABX9TyPhpHVHullROfBz90SNohL7",
      "include_colab_link": true
    },
    "kernelspec": {
      "name": "python3",
      "display_name": "Python 3"
    },
    "language_info": {
      "name": "python"
    }
  },
  "cells": [
    {
      "cell_type": "markdown",
      "metadata": {
        "id": "view-in-github",
        "colab_type": "text"
      },
      "source": [
        "<a href=\"https://colab.research.google.com/github/pratyushghosh/CS4243_Mini_Project/blob/main/Extract_Frames_from_Video.ipynb\" target=\"_parent\"><img src=\"https://colab.research.google.com/assets/colab-badge.svg\" alt=\"Open In Colab\"/></a>"
      ]
    },
    {
      "cell_type": "code",
      "execution_count": 1,
      "metadata": {
        "colab": {
          "base_uri": "https://localhost:8080/"
        },
        "id": "WESwIv0E0Wca",
        "outputId": "abdf46e4-ee98-490e-b990-447db5eb154f"
      },
      "outputs": [
        {
          "output_type": "stream",
          "name": "stdout",
          "text": [
            "Downloading...\n",
            "From: https://drive.google.com/uc?id=1LebRh7lOxPRJ7tORwUWxiyN_l4tRu1H_\n",
            "To: /content/Videos.zip\n",
            "100% 1.43G/1.43G [00:08<00:00, 167MB/s]\n"
          ]
        }
      ],
      "source": [
        "!gdown https://drive.google.com/uc?id=1LebRh7lOxPRJ7tORwUWxiyN_l4tRu1H_"
      ]
    },
    {
      "cell_type": "code",
      "source": [
        "!unzip -q Videos.zip"
      ],
      "metadata": {
        "id": "fTDqQtHD0rYP"
      },
      "execution_count": 2,
      "outputs": []
    },
    {
      "cell_type": "code",
      "source": [
        "import cv2\n",
        "\n",
        "def extractImages(pathIn, pathOut):\n",
        "    count = 0\n",
        "    vidcap = cv2.VideoCapture(pathIn)\n",
        "    success,image = vidcap.read()\n",
        "    success = True\n",
        "    while success:\n",
        "        vidcap.set(cv2.CAP_PROP_POS_MSEC,(count*2000))    # get from every 2 secs\n",
        "        success,image = vidcap.read()\n",
        "        if success:\n",
        "          print (f\"{pathIn.split('/')[4]} Frame: \", count)\n",
        "          cv2.imwrite( pathOut + \"/frame%d.jpg\" % count, image)     # save frame as JPEG file\n",
        "          count = count + 1"
      ],
      "metadata": {
        "id": "34oVFfdG172E"
      },
      "execution_count": 3,
      "outputs": []
    },
    {
      "cell_type": "code",
      "source": [
        "import os\n",
        "\n",
        "frames = \"./Frames\"\n",
        "\n",
        "for root, dirs, files in os.walk(\"/content/Videos\"):\n",
        "  for name in files:\n",
        "    className = root.split('/')[3]\n",
        "    out = f\"{frames}/{className}/{name}\"\n",
        "\n",
        "    os.makedirs(f\"{frames}/{className}/{name}\")\n",
        "    extractImages(os.path.join(root, name), out)"
      ],
      "metadata": {
        "id": "A-8xv8KR0tpG"
      },
      "execution_count": null,
      "outputs": []
    },
    {
      "cell_type": "code",
      "source": [
        "!zip -r /content/Frames.zip /content/Frames"
      ],
      "metadata": {
        "id": "XGO1GHoM_Lix"
      },
      "execution_count": null,
      "outputs": []
    },
    {
      "cell_type": "code",
      "source": [
        "from google.colab import files\n",
        "files.download(\"/content/Frames.zip\")"
      ],
      "metadata": {
        "id": "qsqJHcsr_3wf"
      },
      "execution_count": null,
      "outputs": []
    }
  ]
}
