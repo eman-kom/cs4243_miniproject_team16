{
  "nbformat": 4,
  "nbformat_minor": 0,
  "metadata": {
    "colab": {
      "provenance": [],
      "collapsed_sections": [],
      "mount_file_id": "16LHKORNIUv3KJTk4-eub54ofiWAvp8i0",
      "authorship_tag": "ABX9TyNGni5oLVs7jAdCGujqaRj2",
      "include_colab_link": true
    },
    "kernelspec": {
      "name": "python3",
      "display_name": "Python 3"
    },
    "language_info": {
      "name": "python"
    }
  },
  "cells": [
    {
      "cell_type": "markdown",
      "metadata": {
        "id": "view-in-github",
        "colab_type": "text"
      },
      "source": [
        "<a href=\"https://colab.research.google.com/github/pratyushghosh/CS4243_Mini_Project/blob/main/Baseline_Image_Classification.ipynb\" target=\"_parent\"><img src=\"https://colab.research.google.com/assets/colab-badge.svg\" alt=\"Open In Colab\"/></a>"
      ]
    },
    {
      "cell_type": "code",
      "source": [
        "!rm -rf /content/frames\n",
        "!rm /content/Combined_Frames.zip"
      ],
      "metadata": {
        "id": "p190g7-hpbT1"
      },
      "execution_count": 1,
      "outputs": []
    },
    {
      "cell_type": "code",
      "source": [
        "import pathlib\n",
        "import PIL\n",
        "from google.colab import drive\n",
        "import zipfile\n",
        "import os.path\n",
        "from os import path\n",
        "import gdown\n",
        "import random\n",
        "\n",
        "import matplotlib.pyplot as plt\n",
        "from matplotlib.ticker import PercentFormatter\n",
        "import numpy as np\n",
        "import tensorflow as tf\n",
        "\n",
        "from tensorflow import keras\n",
        "from tensorflow.keras import layers\n",
        "from tensorflow.keras.models import Sequential"
      ],
      "metadata": {
        "id": "-X25_5n0C8Wl"
      },
      "execution_count": 2,
      "outputs": []
    },
    {
      "cell_type": "code",
      "source": [
        "# Extract frames from zip\n",
        "if(not path.exists(\"/content/frames\")):\n",
        "    src_url = 'https://drive.google.com/uc?id=1QI6qIIV0ZMy6ytAlHYTMOKQBvEuZLtJM'\n",
        "    gdown.download(src_url, 'Combined_Frames.zip')\n",
        "    zip_ref = zipfile.ZipFile(\"/content/Combined_Frames.zip\", 'r')\n",
        "    zip_ref.extractall(\"/content/frames\")\n",
        "    zip_ref.close()"
      ],
      "metadata": {
        "id": "OvtvSLPIxD8h",
        "colab": {
          "base_uri": "https://localhost:8080/"
        },
        "outputId": "696cd061-83a1-425e-d20c-390755fa98e0"
      },
      "execution_count": 3,
      "outputs": [
        {
          "output_type": "stream",
          "name": "stderr",
          "text": [
            "Downloading...\n",
            "From: https://drive.google.com/uc?id=1QI6qIIV0ZMy6ytAlHYTMOKQBvEuZLtJM\n",
            "To: /content/Combined_Frames.zip\n",
            "100%|██████████| 419M/419M [00:02<00:00, 197MB/s]\n"
          ]
        }
      ]
    },
    {
      "cell_type": "code",
      "source": [
        "frames_dir = pathlib.Path(\"/content/frames/Combined_Frames\")\n",
        "\n",
        "# Testing that extraction was successful\n",
        "image_count = len(list(frames_dir.glob('*/*.jpg')))\n",
        "print(image_count)\n",
        "\n",
        "# carrying = list(frames_dir.glob('Carrying/*'))\n",
        "# PIL.Image.open(str(carrying[0]))"
      ],
      "metadata": {
        "id": "zPLB5vqQ8PZq",
        "colab": {
          "base_uri": "https://localhost:8080/"
        },
        "outputId": "958de050-8886-40e2-8729-e59e43b8f28e"
      },
      "execution_count": 4,
      "outputs": [
        {
          "output_type": "stream",
          "name": "stdout",
          "text": [
            "1335\n"
          ]
        }
      ]
    },
    {
      "cell_type": "markdown",
      "source": [
        "# Separating Testing Frames"
      ],
      "metadata": {
        "id": "Wgz7kuMRJUz9"
      }
    },
    {
      "cell_type": "code",
      "source": [
        "class_names = [fname for fname in os.listdir(frames_dir)]\n",
        "frame_names = {}\n",
        "all_frames_dir = \"/content/frames/Combined_Frames\"\n",
        "testing_frames_dir = \"/content/frames/testing_frames\"\n",
        "\n",
        "for class_name in class_names:\n",
        "  os.makedirs(testing_frames_dir + \"/\" + class_name)\n",
        "\n",
        "for class_name in class_names:\n",
        "  current_folder = all_frames_dir + \"/\" + class_name\n",
        "  frame_names[class_name] = [fname for fname in os.listdir(current_folder)]"
      ],
      "metadata": {
        "id": "KVKLA00M8z3q"
      },
      "execution_count": 5,
      "outputs": []
    },
    {
      "cell_type": "code",
      "source": [
        "def move_test_frames(frames, class_name):\n",
        "  for frame in frames:\n",
        "    curr = f\"{all_frames_dir}/{class_name}/{frame}\"\n",
        "    new = f\"{testing_frames_dir}/{class_name}/{frame}\"\n",
        "    os.rename(curr, new)"
      ],
      "metadata": {
        "id": "qbfXwWXWAMb6"
      },
      "execution_count": 6,
      "outputs": []
    },
    {
      "cell_type": "code",
      "source": [
        "for class_name, class_frame_names in frame_names.items():\n",
        "  curr_dir = os.path.join(all_frames_dir, class_name)\n",
        "  print(\"total num frames:\", len([name for name in os.listdir(curr_dir) if os.path.isfile(os.path.join(curr_dir, name))]))\n",
        "\n",
        "  random.shuffle(class_frame_names)\n",
        "  num_frames_to_move = int(np.ceil(len(class_frame_names) * 0.1))\n",
        "  frames_to_move = class_frame_names[:num_frames_to_move]\n",
        "  move_test_frames(frames_to_move, class_name)"
      ],
      "metadata": {
        "colab": {
          "base_uri": "https://localhost:8080/"
        },
        "id": "DQoaWialBH_o",
        "outputId": "247a6c27-9ee9-47e7-f87e-3b05a4a83209"
      },
      "execution_count": 7,
      "outputs": [
        {
          "output_type": "stream",
          "name": "stdout",
          "text": [
            "total num frames: 445\n",
            "total num frames: 445\n",
            "total num frames: 445\n"
          ]
        }
      ]
    },
    {
      "cell_type": "code",
      "source": [
        "# Check that files have been moved successfully\n",
        "for class_name in class_names:\n",
        "  print(class_name)\n",
        "  curr_all_dir = os.path.join(all_frames_dir, class_name)\n",
        "  curr_testing_dir = os.path.join(testing_frames_dir, class_name)\n",
        "  print(len([name for name in os.listdir(curr_all_dir) if os.path.isfile(os.path.join(curr_all_dir, name))]))\n",
        "  print(len([name for name in os.listdir(curr_testing_dir) if os.path.isfile(os.path.join(curr_testing_dir, name))]))\n",
        "  print('\\n')"
      ],
      "metadata": {
        "colab": {
          "base_uri": "https://localhost:8080/"
        },
        "id": "yxK0-at-DPF8",
        "outputId": "e8abc8e6-af0b-4583-90ff-29f1975229c9"
      },
      "execution_count": 8,
      "outputs": [
        {
          "output_type": "stream",
          "name": "stdout",
          "text": [
            "Threat\n",
            "400\n",
            "45\n",
            "\n",
            "\n",
            "Normal\n",
            "400\n",
            "45\n",
            "\n",
            "\n",
            "Carrying\n",
            "400\n",
            "45\n",
            "\n",
            "\n"
          ]
        }
      ]
    },
    {
      "cell_type": "markdown",
      "source": [
        "# Training & Validation"
      ],
      "metadata": {
        "id": "1TgmsIbBJcfS"
      }
    },
    {
      "cell_type": "code",
      "source": [
        "# Set up dataset\n",
        "batch_size = 30\n",
        "img_height = 120\n",
        "img_width = 120\n",
        "seed = 123\n",
        "\n",
        "training_set = tf.keras.utils.image_dataset_from_directory(\n",
        "  frames_dir,\n",
        "  validation_split=0.2,\n",
        "  subset=\"training\",\n",
        "  seed=seed,\n",
        "  image_size=(img_height, img_width),\n",
        "  batch_size=batch_size)\n",
        "\n",
        "validation_set = tf.keras.utils.image_dataset_from_directory(\n",
        "  frames_dir,\n",
        "  validation_split=0.2,\n",
        "  subset=\"validation\",\n",
        "  seed=seed,\n",
        "  image_size=(img_height, img_width),\n",
        "  batch_size=batch_size)"
      ],
      "metadata": {
        "colab": {
          "base_uri": "https://localhost:8080/"
        },
        "id": "xeC4bvML3iHm",
        "outputId": "063c0644-d197-4c4e-891b-ffa17694ad6f"
      },
      "execution_count": 9,
      "outputs": [
        {
          "output_type": "stream",
          "name": "stdout",
          "text": [
            "Found 1200 files belonging to 3 classes.\n",
            "Using 960 files for training.\n",
            "Found 1200 files belonging to 3 classes.\n",
            "Using 240 files for validation.\n"
          ]
        }
      ]
    },
    {
      "cell_type": "code",
      "source": [
        "class_names = training_set.class_names\n",
        "print(class_names)"
      ],
      "metadata": {
        "colab": {
          "base_uri": "https://localhost:8080/"
        },
        "id": "MIevPQm9YBX9",
        "outputId": "ad940a09-67fa-40a0-9504-c3e3f0c3809c"
      },
      "execution_count": 10,
      "outputs": [
        {
          "output_type": "stream",
          "name": "stdout",
          "text": [
            "['Carrying', 'Normal', 'Threat']\n"
          ]
        }
      ]
    },
    {
      "cell_type": "code",
      "source": [
        "# Buffered pre-fetching\n",
        "AUTOTUNE = tf.data.AUTOTUNE\n",
        "\n",
        "training_set = training_set.cache().shuffle(1000).prefetch(buffer_size=AUTOTUNE)\n",
        "validation_set = validation_set.cache().prefetch(buffer_size=AUTOTUNE)"
      ],
      "metadata": {
        "id": "G56EV7gwdspO"
      },
      "execution_count": 11,
      "outputs": []
    },
    {
      "cell_type": "code",
      "source": [
        "# Augment frames\n",
        "data_augmentation = keras.Sequential([\n",
        "  layers.RandomFlip(\"horizontal\", input_shape=(img_height, img_width, 3)),\n",
        "  layers.RandomFlip(\"vertical\", input_shape=(img_height, img_width, 3)),\n",
        "  layers.RandomRotation(0.1)\n",
        "])"
      ],
      "metadata": {
        "id": "Qy3QJZR2u671"
      },
      "execution_count": 12,
      "outputs": []
    },
    {
      "cell_type": "code",
      "source": [
        "num_classes = 3\n",
        "\n",
        "model = Sequential([\n",
        "  data_augmentation,\n",
        "  layers.Rescaling(1./255, input_shape=(img_height, img_width, 3)), # normalize frames\n",
        "  # layers.Conv2D(16, 3, padding='same', activation='relu'),\n",
        "  # layers.MaxPooling2D(),\n",
        "  layers.Conv2D(32, 3, padding='same', activation='relu'),\n",
        "  layers.MaxPooling2D(),\n",
        "  # layers.Conv2D(64, 3, padding='same', activation='relu'),\n",
        "  # layers.MaxPooling2D(),\n",
        "  layers.Dropout(0.5),\n",
        "  layers.Flatten(),\n",
        "  layers.Dense(128, activation='relu'),\n",
        "  layers.Dense(num_classes)\n",
        "])\n",
        "\n",
        "model.compile(optimizer='adam',\n",
        "              loss=tf.keras.losses.SparseCategoricalCrossentropy(from_logits=True),\n",
        "              metrics=['accuracy'])"
      ],
      "metadata": {
        "id": "FfdvQi2IT8zK"
      },
      "execution_count": 13,
      "outputs": []
    },
    {
      "cell_type": "code",
      "source": [
        "model.summary()"
      ],
      "metadata": {
        "colab": {
          "base_uri": "https://localhost:8080/"
        },
        "id": "2WjqeClqUJ26",
        "outputId": "f842f6a0-997b-4460-8f87-90e80cd776e7"
      },
      "execution_count": 14,
      "outputs": [
        {
          "output_type": "stream",
          "name": "stdout",
          "text": [
            "Model: \"sequential_1\"\n",
            "_________________________________________________________________\n",
            " Layer (type)                Output Shape              Param #   \n",
            "=================================================================\n",
            " sequential (Sequential)     (None, 120, 120, 3)       0         \n",
            "                                                                 \n",
            " rescaling (Rescaling)       (None, 120, 120, 3)       0         \n",
            "                                                                 \n",
            " conv2d (Conv2D)             (None, 120, 120, 32)      896       \n",
            "                                                                 \n",
            " max_pooling2d (MaxPooling2D  (None, 60, 60, 32)       0         \n",
            " )                                                               \n",
            "                                                                 \n",
            " dropout (Dropout)           (None, 60, 60, 32)        0         \n",
            "                                                                 \n",
            " flatten (Flatten)           (None, 115200)            0         \n",
            "                                                                 \n",
            " dense (Dense)               (None, 128)               14745728  \n",
            "                                                                 \n",
            " dense_1 (Dense)             (None, 3)                 387       \n",
            "                                                                 \n",
            "=================================================================\n",
            "Total params: 14,747,011\n",
            "Trainable params: 14,747,011\n",
            "Non-trainable params: 0\n",
            "_________________________________________________________________\n"
          ]
        }
      ]
    },
    {
      "cell_type": "code",
      "source": [
        "epochs = 20\n",
        "\n",
        "history = model.fit(\n",
        "  training_set,\n",
        "  validation_data=validation_set,\n",
        "  epochs=epochs\n",
        ")"
      ],
      "metadata": {
        "colab": {
          "base_uri": "https://localhost:8080/"
        },
        "id": "UYpePiUnUMcs",
        "outputId": "f3e9660b-c548-46bc-8eb7-6728c33b0043"
      },
      "execution_count": 15,
      "outputs": [
        {
          "output_type": "stream",
          "name": "stdout",
          "text": [
            "Epoch 1/20\n",
            "32/32 [==============================] - 33s 532ms/step - loss: 2.3904 - accuracy: 0.3719 - val_loss: 1.0574 - val_accuracy: 0.4417\n",
            "Epoch 2/20\n",
            "32/32 [==============================] - 15s 465ms/step - loss: 1.0353 - accuracy: 0.4667 - val_loss: 0.9781 - val_accuracy: 0.5333\n",
            "Epoch 3/20\n",
            "32/32 [==============================] - 15s 463ms/step - loss: 0.9688 - accuracy: 0.5469 - val_loss: 0.9583 - val_accuracy: 0.4708\n",
            "Epoch 4/20\n",
            "32/32 [==============================] - 15s 461ms/step - loss: 0.9238 - accuracy: 0.5479 - val_loss: 0.9144 - val_accuracy: 0.5667\n",
            "Epoch 5/20\n",
            "32/32 [==============================] - 15s 461ms/step - loss: 0.8448 - accuracy: 0.6240 - val_loss: 0.8735 - val_accuracy: 0.5667\n",
            "Epoch 6/20\n",
            "32/32 [==============================] - 17s 530ms/step - loss: 0.8321 - accuracy: 0.6260 - val_loss: 0.8162 - val_accuracy: 0.5833\n",
            "Epoch 7/20\n",
            "32/32 [==============================] - 15s 461ms/step - loss: 0.7778 - accuracy: 0.6417 - val_loss: 0.8434 - val_accuracy: 0.6042\n",
            "Epoch 8/20\n",
            "32/32 [==============================] - 15s 462ms/step - loss: 0.7839 - accuracy: 0.6562 - val_loss: 0.7684 - val_accuracy: 0.6458\n",
            "Epoch 9/20\n",
            "32/32 [==============================] - 15s 465ms/step - loss: 0.7129 - accuracy: 0.6969 - val_loss: 0.7765 - val_accuracy: 0.6917\n",
            "Epoch 10/20\n",
            "32/32 [==============================] - 18s 552ms/step - loss: 0.6765 - accuracy: 0.7260 - val_loss: 0.6889 - val_accuracy: 0.6875\n",
            "Epoch 11/20\n",
            "32/32 [==============================] - 15s 461ms/step - loss: 0.6359 - accuracy: 0.7354 - val_loss: 0.7566 - val_accuracy: 0.7125\n",
            "Epoch 12/20\n",
            "32/32 [==============================] - 15s 461ms/step - loss: 0.6671 - accuracy: 0.7135 - val_loss: 0.6057 - val_accuracy: 0.7583\n",
            "Epoch 13/20\n",
            "32/32 [==============================] - 15s 462ms/step - loss: 0.6156 - accuracy: 0.7333 - val_loss: 0.6155 - val_accuracy: 0.7625\n",
            "Epoch 14/20\n",
            "32/32 [==============================] - 15s 458ms/step - loss: 0.5975 - accuracy: 0.7625 - val_loss: 0.6212 - val_accuracy: 0.7792\n",
            "Epoch 15/20\n",
            "32/32 [==============================] - 15s 465ms/step - loss: 0.5968 - accuracy: 0.7667 - val_loss: 0.5791 - val_accuracy: 0.7958\n",
            "Epoch 16/20\n",
            "32/32 [==============================] - 15s 466ms/step - loss: 0.5563 - accuracy: 0.7646 - val_loss: 0.5768 - val_accuracy: 0.7375\n",
            "Epoch 17/20\n",
            "32/32 [==============================] - 15s 463ms/step - loss: 0.5410 - accuracy: 0.7833 - val_loss: 0.6339 - val_accuracy: 0.7792\n",
            "Epoch 18/20\n",
            "32/32 [==============================] - 15s 462ms/step - loss: 0.5404 - accuracy: 0.7823 - val_loss: 0.5560 - val_accuracy: 0.7875\n",
            "Epoch 19/20\n",
            "32/32 [==============================] - 15s 461ms/step - loss: 0.5032 - accuracy: 0.8010 - val_loss: 0.6280 - val_accuracy: 0.7583\n",
            "Epoch 20/20\n",
            "32/32 [==============================] - 15s 462ms/step - loss: 0.4596 - accuracy: 0.8302 - val_loss: 0.5161 - val_accuracy: 0.8125\n"
          ]
        }
      ]
    },
    {
      "cell_type": "code",
      "source": [
        "training_accuracy = history.history['accuracy']\n",
        "validation_accuracy = history.history['val_accuracy']\n",
        "\n",
        "training_loss = history.history['loss']\n",
        "validation_loss = history.history['val_loss']\n",
        "\n",
        "epochs_range = range(epochs)\n",
        "\n",
        "plt.figure(figsize=(12, 8))\n",
        "plt.subplot(1, 2, 1)\n",
        "plt.plot(epochs_range, training_accuracy, label='Training Accuracy')\n",
        "plt.plot(epochs_range, validation_accuracy, label='Validation Accuracy')\n",
        "# plt.gca().set_ylim(bottom=0)\n",
        "plt.gca().yaxis.set_major_formatter(PercentFormatter(1.0))\n",
        "plt.legend(loc='lower right')\n",
        "plt.title('Training and Validation Accuracy')\n",
        "\n",
        "plt.subplot(1, 2, 2)\n",
        "plt.plot(epochs_range, training_loss, label='Training Loss')\n",
        "plt.plot(epochs_range, validation_loss, label='Validation Loss')\n",
        "plt.gca().set_ylim(bottom=0)\n",
        "plt.legend(loc='upper right')\n",
        "plt.title('Training and Validation Loss')\n",
        "plt.show()"
      ],
      "metadata": {
        "colab": {
          "base_uri": "https://localhost:8080/",
          "height": 499
        },
        "id": "m8eFFPdxUSdu",
        "outputId": "674b72b1-a876-436a-d180-3300a6b9acc9"
      },
      "execution_count": 16,
      "outputs": [
        {
          "output_type": "display_data",
          "data": {
            "text/plain": [
              "<Figure size 864x576 with 2 Axes>"
            ],
            "image/png": "[encoded data removed]"
          },
          "metadata": {
            "needs_background": "light"
          }
        }
      ]
    },
    {
      "cell_type": "markdown",
      "source": [
        "# Testing"
      ],
      "metadata": {
        "id": "zOPFlNiZH9uH"
      }
    },
    {
      "cell_type": "code",
      "source": [
        "test_dir = pathlib.Path(\"/content/frames/testing_frames\")\n",
        "# test_set = tf.keras.utils.image_dataset_from_directory(test_dir)\n",
        "test_set = tf.keras.utils.image_dataset_from_directory(\n",
        "  test_dir,\n",
        "  image_size=(img_height, img_width))\n",
        "test_set = test_set.cache().prefetch(buffer_size=AUTOTUNE)"
      ],
      "metadata": {
        "colab": {
          "base_uri": "https://localhost:8080/"
        },
        "id": "TUHJropDGjm0",
        "outputId": "e6f5add3-d0ba-40c6-f356-6d82998513d9"
      },
      "execution_count": 17,
      "outputs": [
        {
          "output_type": "stream",
          "name": "stdout",
          "text": [
            "Found 135 files belonging to 3 classes.\n"
          ]
        }
      ]
    },
    {
      "cell_type": "code",
      "source": [
        "def get_actual_predicted_labels(dataset): \n",
        "  actual = [labels for _, labels in dataset.unbatch()]\n",
        "  predicted = model.predict(dataset)\n",
        "\n",
        "  actual = tf.stack(actual, axis=0)\n",
        "  predicted = tf.concat(predicted, axis=0)\n",
        "  predicted = tf.argmax(predicted, axis=1)\n",
        "\n",
        "  return actual, predicted"
      ],
      "metadata": {
        "id": "bxohC_wmHKY4"
      },
      "execution_count": 18,
      "outputs": []
    },
    {
      "cell_type": "code",
      "source": [
        "import seaborn as sns\n",
        "import matplotlib.pyplot as plt\n",
        "\n",
        "def plot_confusion_matrix(actual, predicted, labels, ds_type):\n",
        "  cm = tf.math.confusion_matrix(actual, predicted)\n",
        "  ax = sns.heatmap(cm, annot=True, fmt='g')\n",
        "  sns.set(rc={'figure.figsize':(12, 12)})\n",
        "  sns.set(font_scale=1.4)\n",
        "  ax.set_title('Confusion matrix of threat recognition for ' + ds_type)\n",
        "  ax.set_xlabel('Predicted Label')\n",
        "  ax.set_ylabel('Actual Label')\n",
        "  plt.xticks(rotation=90)\n",
        "  plt.yticks(rotation=0) \n",
        "  ax.xaxis.set_ticklabels(labels)\n",
        "  ax.yaxis.set_ticklabels(labels)"
      ],
      "metadata": {
        "id": "tk_gN6kAHnb5"
      },
      "execution_count": 19,
      "outputs": []
    },
    {
      "cell_type": "code",
      "source": [
        "model.evaluate(test_set, return_dict=True)\n",
        "actual, predicted = get_actual_predicted_labels(test_set)\n",
        "plot_confusion_matrix(actual, predicted, class_names, 'test')"
      ],
      "metadata": {
        "colab": {
          "base_uri": "https://localhost:8080/",
          "height": 367
        },
        "id": "ZD185tqRHq7w",
        "outputId": "768e31bf-c2a3-453d-f616-bc60371ba608"
      },
      "execution_count": 20,
      "outputs": [
        {
          "output_type": "stream",
          "name": "stdout",
          "text": [
            "5/5 [==============================] - 2s 95ms/step - loss: 0.5984 - accuracy: 0.7556\n",
            "5/5 [==============================] - 1s 94ms/step\n"
          ]
        },
        {
          "output_type": "display_data",
          "data": {
            "text/plain": [
              "<Figure size 432x288 with 2 Axes>"
            ],
            "image/png": "[encoded data removed]"
          },
          "metadata": {
            "needs_background": "light"
          }
        }
      ]
    }
  ]
}