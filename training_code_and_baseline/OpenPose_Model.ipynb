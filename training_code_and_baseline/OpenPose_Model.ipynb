{
  "nbformat": 4,
  "nbformat_minor": 0,
  "metadata": {
    "colab": {
      "provenance": [],
      "collapsed_sections": []
    },
    "kernelspec": {
      "name": "python3",
      "display_name": "Python 3"
    },
    "language_info": {
      "name": "python"
    },
    "gpuClass": "premium",
    "accelerator": "GPU"
  },
  "cells": [
    {
      "cell_type": "markdown",
      "source": [
        "# Download Raw Data"
      ],
      "metadata": {
        "id": "-d_TFoEv3qHl"
      }
    },
    {
      "cell_type": "code",
      "execution_count": 1,
      "metadata": {
        "colab": {
          "base_uri": "https://localhost:8080/"
        },
        "id": "MJrP3PpyW9mq",
        "outputId": "27d69344-36af-420e-a197-42449bba823f"
      },
      "outputs": [
        {
          "output_type": "stream",
          "name": "stdout",
          "text": [
            "Downloading...\n",
            "From: https://drive.google.com/uc?id=1Y6GtFq3VPyV_AUMm7OqCfhCZZuEelvRd\n",
            "To: /content/threat_carrying_keypoints.zip\n",
            "\r  0% 0.00/928k [00:00<?, ?B/s]\r100% 928k/928k [00:00<00:00, 156MB/s]\n"
          ]
        }
      ],
      "source": [
        "!gdown https://drive.google.com/uc?id=1Y6GtFq3VPyV_AUMm7OqCfhCZZuEelvRd"
      ]
    },
    {
      "cell_type": "code",
      "source": [
        "!unzip -q threat_carrying_keypoints.zip"
      ],
      "metadata": {
        "id": "YNi6TC9UXJ7b"
      },
      "execution_count": 2,
      "outputs": []
    },
    {
      "cell_type": "code",
      "source": [
        "!pip install tensorflow==1.15.5"
      ],
      "metadata": {
        "id": "5I9mGKO-4TDv",
        "outputId": "7f1f3158-2458-4d6d-8879-902b961008fa",
        "colab": {
          "base_uri": "https://localhost:8080/",
          "height": 1000
        }
      },
      "execution_count": 3,
      "outputs": [
        {
          "output_type": "stream",
          "name": "stdout",
          "text": [
            "Looking in indexes: https://pypi.org/simple, https://us-python.pkg.dev/colab-wheels/public/simple/\n",
            "Collecting tensorflow==1.15.5\n",
            "  Downloading tensorflow-1.15.5-cp37-cp37m-manylinux2010_x86_64.whl (110.5 MB)\n",
            "\u001b[K     |████████████████████████████████| 110.5 MB 1.1 MB/s \n",
            "\u001b[?25hRequirement already satisfied: keras-preprocessing>=1.0.5 in /usr/local/lib/python3.7/dist-packages (from tensorflow==1.15.5) (1.1.2)\n",
            "Requirement already satisfied: wrapt>=1.11.1 in /usr/local/lib/python3.7/dist-packages (from tensorflow==1.15.5) (1.14.1)\n",
            "Requirement already satisfied: wheel>=0.26 in /usr/local/lib/python3.7/dist-packages (from tensorflow==1.15.5) (0.38.3)\n",
            "Collecting gast==0.2.2\n",
            "  Downloading gast-0.2.2.tar.gz (10 kB)\n",
            "Requirement already satisfied: six>=1.10.0 in /usr/local/lib/python3.7/dist-packages (from tensorflow==1.15.5) (1.15.0)\n",
            "Requirement already satisfied: astor>=0.6.0 in /usr/local/lib/python3.7/dist-packages (from tensorflow==1.15.5) (0.8.1)\n",
            "Collecting keras-applications>=1.0.8\n",
            "  Downloading Keras_Applications-1.0.8-py3-none-any.whl (50 kB)\n",
            "\u001b[K     |████████████████████████████████| 50 kB 7.9 MB/s \n",
            "\u001b[?25hCollecting numpy<1.19.0,>=1.16.0\n",
            "  Downloading numpy-1.18.5-cp37-cp37m-manylinux1_x86_64.whl (20.1 MB)\n",
            "\u001b[K     |████████████████████████████████| 20.1 MB 84.8 MB/s \n",
            "\u001b[?25hCollecting tensorboard<1.16.0,>=1.15.0\n",
            "  Downloading tensorboard-1.15.0-py3-none-any.whl (3.8 MB)\n",
            "\u001b[K     |████████████████████████████████| 3.8 MB 70.0 MB/s \n",
            "\u001b[?25hRequirement already satisfied: grpcio>=1.8.6 in /usr/local/lib/python3.7/dist-packages (from tensorflow==1.15.5) (1.50.0)\n",
            "Requirement already satisfied: protobuf>=3.6.1 in /usr/local/lib/python3.7/dist-packages (from tensorflow==1.15.5) (3.19.6)\n",
            "Collecting tensorflow-estimator==1.15.1\n",
            "  Downloading tensorflow_estimator-1.15.1-py2.py3-none-any.whl (503 kB)\n",
            "\u001b[K     |████████████████████████████████| 503 kB 53.6 MB/s \n",
            "\u001b[?25hRequirement already satisfied: google-pasta>=0.1.6 in /usr/local/lib/python3.7/dist-packages (from tensorflow==1.15.5) (0.2.0)\n",
            "Requirement already satisfied: absl-py>=0.7.0 in /usr/local/lib/python3.7/dist-packages (from tensorflow==1.15.5) (1.3.0)\n",
            "Requirement already satisfied: opt-einsum>=2.3.2 in /usr/local/lib/python3.7/dist-packages (from tensorflow==1.15.5) (3.3.0)\n",
            "Requirement already satisfied: termcolor>=1.1.0 in /usr/local/lib/python3.7/dist-packages (from tensorflow==1.15.5) (2.1.0)\n",
            "Collecting h5py<=2.10.0\n",
            "  Downloading h5py-2.10.0-cp37-cp37m-manylinux1_x86_64.whl (2.9 MB)\n",
            "\u001b[K     |████████████████████████████████| 2.9 MB 80.0 MB/s \n",
            "\u001b[?25hRequirement already satisfied: markdown>=2.6.8 in /usr/local/lib/python3.7/dist-packages (from tensorboard<1.16.0,>=1.15.0->tensorflow==1.15.5) (3.4.1)\n",
            "Requirement already satisfied: werkzeug>=0.11.15 in /usr/local/lib/python3.7/dist-packages (from tensorboard<1.16.0,>=1.15.0->tensorflow==1.15.5) (1.0.1)\n",
            "Requirement already satisfied: setuptools>=41.0.0 in /usr/local/lib/python3.7/dist-packages (from tensorboard<1.16.0,>=1.15.0->tensorflow==1.15.5) (57.4.0)\n",
            "Requirement already satisfied: importlib-metadata>=4.4 in /usr/local/lib/python3.7/dist-packages (from markdown>=2.6.8->tensorboard<1.16.0,>=1.15.0->tensorflow==1.15.5) (4.13.0)\n",
            "Requirement already satisfied: zipp>=0.5 in /usr/local/lib/python3.7/dist-packages (from importlib-metadata>=4.4->markdown>=2.6.8->tensorboard<1.16.0,>=1.15.0->tensorflow==1.15.5) (3.10.0)\n",
            "Requirement already satisfied: typing-extensions>=3.6.4 in /usr/local/lib/python3.7/dist-packages (from importlib-metadata>=4.4->markdown>=2.6.8->tensorboard<1.16.0,>=1.15.0->tensorflow==1.15.5) (4.1.1)\n",
            "Building wheels for collected packages: gast\n",
            "  Building wheel for gast (setup.py) ... \u001b[?25l\u001b[?25hdone\n",
            "  Created wheel for gast: filename=gast-0.2.2-py3-none-any.whl size=7554 sha256=8d005e5e629bd188aab2b25f32cb6ab7e3deafe1c10b1eb56b107b4f9b2911d9\n",
            "  Stored in directory: /root/.cache/pip/wheels/21/7f/02/420f32a803f7d0967b48dd823da3f558c5166991bfd204eef3\n",
            "Successfully built gast\n",
            "Installing collected packages: numpy, h5py, tensorflow-estimator, tensorboard, keras-applications, gast, tensorflow\n",
            "  Attempting uninstall: numpy\n",
            "    Found existing installation: numpy 1.21.6\n",
            "    Uninstalling numpy-1.21.6:\n",
            "      Successfully uninstalled numpy-1.21.6\n",
            "  Attempting uninstall: h5py\n",
            "    Found existing installation: h5py 3.1.0\n",
            "    Uninstalling h5py-3.1.0:\n",
            "      Successfully uninstalled h5py-3.1.0\n",
            "  Attempting uninstall: tensorflow-estimator\n",
            "    Found existing installation: tensorflow-estimator 2.9.0\n",
            "    Uninstalling tensorflow-estimator-2.9.0:\n",
            "      Successfully uninstalled tensorflow-estimator-2.9.0\n",
            "  Attempting uninstall: tensorboard\n",
            "    Found existing installation: tensorboard 2.9.1\n",
            "    Uninstalling tensorboard-2.9.1:\n",
            "      Successfully uninstalled tensorboard-2.9.1\n",
            "  Attempting uninstall: gast\n",
            "    Found existing installation: gast 0.4.0\n",
            "    Uninstalling gast-0.4.0:\n",
            "      Successfully uninstalled gast-0.4.0\n",
            "  Attempting uninstall: tensorflow\n",
            "    Found existing installation: tensorflow 2.9.2\n",
            "    Uninstalling tensorflow-2.9.2:\n",
            "      Successfully uninstalled tensorflow-2.9.2\n",
            "\u001b[31mERROR: pip's dependency resolver does not currently take into account all the packages that are installed. This behaviour is the source of the following dependency conflicts.\n",
            "xarray-einstats 0.2.2 requires numpy>=1.21, but you have numpy 1.18.5 which is incompatible.\n",
            "tensorflow-probability 0.17.0 requires gast>=0.3.2, but you have gast 0.2.2 which is incompatible.\n",
            "tables 3.7.0 requires numpy>=1.19.0, but you have numpy 1.18.5 which is incompatible.\n",
            "plotnine 0.8.0 requires numpy>=1.19.0, but you have numpy 1.18.5 which is incompatible.\n",
            "kapre 0.3.7 requires tensorflow>=2.0.0, but you have tensorflow 1.15.5 which is incompatible.\n",
            "jaxlib 0.3.22+cuda11.cudnn805 requires numpy>=1.20, but you have numpy 1.18.5 which is incompatible.\n",
            "jax 0.3.23 requires numpy>=1.20, but you have numpy 1.18.5 which is incompatible.\n",
            "cupy-cuda11x 11.0.0 requires numpy<1.26,>=1.20, but you have numpy 1.18.5 which is incompatible.\n",
            "cmdstanpy 1.0.8 requires numpy>=1.21, but you have numpy 1.18.5 which is incompatible.\u001b[0m\n",
            "Successfully installed gast-0.2.2 h5py-2.10.0 keras-applications-1.0.8 numpy-1.18.5 tensorboard-1.15.0 tensorflow-1.15.5 tensorflow-estimator-1.15.1\n"
          ]
        },
        {
          "output_type": "display_data",
          "data": {
            "application/vnd.colab-display-data+json": {
              "pip_warning": {
                "packages": [
                  "numpy"
                ]
              }
            }
          },
          "metadata": {}
        }
      ]
    },
    {
      "cell_type": "markdown",
      "source": [
        "# Create Dataset"
      ],
      "metadata": {
        "id": "4eXZ23Zo3tfD"
      }
    },
    {
      "cell_type": "code",
      "source": [
        "import os\n",
        "import json\n",
        "import numpy as np\n",
        "import pandas as pd\n",
        "import tensorflow as tf\n",
        "\n",
        "tf.enable_eager_execution(\n",
        "    config=None, device_policy=None, execution_mode=None\n",
        ")\n",
        "\n",
        "mainList = []\n",
        "for root, dirs, files in os.walk('/content/output_jsons'):\n",
        "  for name in files:\n",
        "    if name.endswith('.json'):\n",
        "      with open(os.path.join(root, name), 'r') as f:\n",
        "        data = json.load(f)\n",
        "\n",
        "      for person in data['people']:\n",
        "        mainList.append((root.split('/')[3], person['pose_keypoints_2d']))"
      ],
      "metadata": {
        "id": "J2FKy0IXmGkV"
      },
      "execution_count": 4,
      "outputs": []
    },
    {
      "cell_type": "code",
      "source": [
        "import random\n",
        "\n",
        "def train_test_split(array):\n",
        "  x = [c[0] for c in array]\n",
        "  y = [e[1] for e in array]\n",
        "\n",
        "  return x, y\n",
        "\n",
        "random.shuffle(mainList)\n",
        "split = int(len(mainList) * 0.7)\n",
        "x_train, y_train = train_test_split(mainList[:split])\n",
        "x_test, y_test = train_test_split(mainList[split:])\n",
        "\n",
        "np.array(x_train).shape, np.array(y_train).shape, np.array(x_test).shape, np.array(y_test).shape"
      ],
      "metadata": {
        "colab": {
          "base_uri": "https://localhost:8080/"
        },
        "id": "hWfMwA9Xs_NI",
        "outputId": "4f76d086-0535-4260-de32-d0c8088a9d7a"
      },
      "execution_count": 5,
      "outputs": [
        {
          "output_type": "execute_result",
          "data": {
            "text/plain": [
              "((661,), (661, 75), (284,), (284, 75))"
            ]
          },
          "metadata": {},
          "execution_count": 5
        }
      ]
    },
    {
      "cell_type": "code",
      "source": [
        "from sklearn.preprocessing import OneHotEncoder\n",
        "one_hot_encoder = OneHotEncoder(sparse=False)\n",
        "train_labels = one_hot_encoder.fit_transform(np.array(x_train).reshape(-1, 1))\n",
        "test_labels = one_hot_encoder.fit_transform(np.array(x_test).reshape(-1, 1))\n",
        "\n",
        "train_labels.shape, test_labels.shape"
      ],
      "metadata": {
        "colab": {
          "base_uri": "https://localhost:8080/"
        },
        "id": "OWvqNtbfl_C3",
        "outputId": "c74d46d9-2704-499f-a9e2-66d2ab5311e6"
      },
      "execution_count": 6,
      "outputs": [
        {
          "output_type": "execute_result",
          "data": {
            "text/plain": [
              "((661, 2), (284, 2))"
            ]
          },
          "metadata": {},
          "execution_count": 6
        }
      ]
    },
    {
      "cell_type": "code",
      "source": [
        "trainingSet = tf.data.Dataset.from_tensor_slices((y_train, train_labels)).batch(32)\n",
        "validationSet = tf.data.Dataset.from_tensor_slices((y_test, test_labels)).batch(32)"
      ],
      "metadata": {
        "id": "6-sMRIXOmQDZ"
      },
      "execution_count": 7,
      "outputs": []
    },
    {
      "cell_type": "markdown",
      "source": [
        "# Modelling Predictions"
      ],
      "metadata": {
        "id": "vs6dxPCH3ypu"
      }
    },
    {
      "cell_type": "code",
      "source": [
        "from tensorflow.keras import layers\n",
        "\n",
        "inputs = layers.Input(shape=(75), dtype=tf.float32)\n",
        "\n",
        "x = layers.Dense(128, activation=\"relu\")(inputs)\n",
        "x = layers.Dense(64, activation=\"relu\")(x)\n",
        "x = layers.Dense(32, activation=\"relu\")(x)\n",
        "x = layers.Dense(64, activation=\"relu\")(x)\n",
        "x = layers.Dense(32, activation=\"relu\")(x)\n",
        "x = layers.Dropout(0.6)(x)\n",
        "\n",
        "outputs = layers.Dense(2, activation=\"softmax\")(x)\n",
        "model = tf.keras.Model(inputs=inputs, outputs=outputs)\n",
        "\n",
        "model_checkpoint_callback = tf.keras.callbacks.ModelCheckpoint(\n",
        "    filepath=\"/content/best_weights\",\n",
        "    save_weights_only=True,\n",
        "    monitor='val_categorical_accuracy',\n",
        "    mode='max',\n",
        "    save_best_only=True)\n",
        "\n",
        "model.compile(loss=\"categorical_crossentropy\",\n",
        "              optimizer=tf.keras.optimizers.Adam(),\n",
        "              metrics=[\"categorical_accuracy\"])\n",
        "\n",
        "history = model.fit(\n",
        "    trainingSet,\n",
        "    epochs=50,\n",
        "    validation_data=validationSet,\n",
        "    callbacks=[model_checkpoint_callback]\n",
        ")\n",
        "\n",
        "model.load_weights(\"/content/best_weights\")"
      ],
      "metadata": {
        "id": "_MHCnK_ydqau",
        "colab": {
          "base_uri": "https://localhost:8080/"
        },
        "outputId": "f0c62db1-7998-47e4-d378-9ba4bb5d0e00"
      },
      "execution_count": 8,
      "outputs": [
        {
          "output_type": "stream",
          "name": "stderr",
          "text": [
            "WARNING:tensorflow:Large dropout rate: 0.6 (>0.5). In TensorFlow 2.x, dropout() uses dropout rate instead of keep_prob. Please ensure that this is intended.\n",
            "WARNING:tensorflow:Large dropout rate: 0.6 (>0.5). In TensorFlow 2.x, dropout() uses dropout rate instead of keep_prob. Please ensure that this is intended.\n"
          ]
        },
        {
          "output_type": "stream",
          "name": "stdout",
          "text": [
            "Epoch 1/50\n"
          ]
        },
        {
          "output_type": "stream",
          "name": "stderr",
          "text": [
            "WARNING:tensorflow:Large dropout rate: 0.6 (>0.5). In TensorFlow 2.x, dropout() uses dropout rate instead of keep_prob. Please ensure that this is intended.\n"
          ]
        },
        {
          "output_type": "stream",
          "name": "stdout",
          "text": [
            "21/21 [==============================] - 2s 117ms/step - loss: 15.8066 - categorical_accuracy: 0.5764 - val_loss: 0.0000e+00 - val_categorical_accuracy: 0.0000e+00\n",
            "Epoch 2/50\n",
            "21/21 [==============================] - 0s 3ms/step - loss: 2.7353 - categorical_accuracy: 0.6354 - val_loss: 1.4443 - val_categorical_accuracy: 0.6901\n",
            "Epoch 3/50\n",
            "21/21 [==============================] - 0s 8ms/step - loss: 1.4218 - categorical_accuracy: 0.6369 - val_loss: 1.0349 - val_categorical_accuracy: 0.7077\n",
            "Epoch 4/50\n",
            "21/21 [==============================] - 0s 3ms/step - loss: 0.9691 - categorical_accuracy: 0.6309 - val_loss: 0.7542 - val_categorical_accuracy: 0.6479\n",
            "Epoch 5/50\n",
            "21/21 [==============================] - 0s 3ms/step - loss: 0.6931 - categorical_accuracy: 0.6399 - val_loss: 0.7190 - val_categorical_accuracy: 0.6796\n",
            "Epoch 6/50\n",
            "21/21 [==============================] - 0s 3ms/step - loss: 0.6116 - categorical_accuracy: 0.6490 - val_loss: 0.6855 - val_categorical_accuracy: 0.6725\n",
            "Epoch 7/50\n",
            "21/21 [==============================] - 0s 3ms/step - loss: 0.5916 - categorical_accuracy: 0.6914 - val_loss: 0.6229 - val_categorical_accuracy: 0.6761\n",
            "Epoch 8/50\n",
            "21/21 [==============================] - 0s 3ms/step - loss: 0.5351 - categorical_accuracy: 0.7292 - val_loss: 0.6163 - val_categorical_accuracy: 0.6655\n",
            "Epoch 9/50\n",
            "21/21 [==============================] - 0s 3ms/step - loss: 0.5214 - categorical_accuracy: 0.7065 - val_loss: 0.6039 - val_categorical_accuracy: 0.7042\n",
            "Epoch 10/50\n",
            "21/21 [==============================] - 0s 3ms/step - loss: 0.5951 - categorical_accuracy: 0.7171 - val_loss: 0.6666 - val_categorical_accuracy: 0.6937\n",
            "Epoch 11/50\n",
            "21/21 [==============================] - 0s 3ms/step - loss: 0.5345 - categorical_accuracy: 0.7428 - val_loss: 0.5645 - val_categorical_accuracy: 0.7218\n",
            "Epoch 12/50\n",
            "21/21 [==============================] - 0s 3ms/step - loss: 0.4971 - categorical_accuracy: 0.7443 - val_loss: 0.5436 - val_categorical_accuracy: 0.7324\n",
            "Epoch 13/50\n",
            "21/21 [==============================] - 0s 4ms/step - loss: 0.4562 - categorical_accuracy: 0.7746 - val_loss: 0.5471 - val_categorical_accuracy: 0.7359\n",
            "Epoch 14/50\n",
            "21/21 [==============================] - 0s 3ms/step - loss: 0.5285 - categorical_accuracy: 0.7610 - val_loss: 0.6134 - val_categorical_accuracy: 0.7289\n",
            "Epoch 15/50\n",
            "21/21 [==============================] - 0s 6ms/step - loss: 0.5096 - categorical_accuracy: 0.7821 - val_loss: 0.5255 - val_categorical_accuracy: 0.7746\n",
            "Epoch 16/50\n",
            "21/21 [==============================] - 0s 3ms/step - loss: 0.4539 - categorical_accuracy: 0.7700 - val_loss: 0.5561 - val_categorical_accuracy: 0.7641\n",
            "Epoch 17/50\n",
            "21/21 [==============================] - 0s 3ms/step - loss: 0.4501 - categorical_accuracy: 0.7731 - val_loss: 0.5034 - val_categorical_accuracy: 0.7465\n",
            "Epoch 18/50\n",
            "21/21 [==============================] - 0s 3ms/step - loss: 0.4315 - categorical_accuracy: 0.7746 - val_loss: 0.4738 - val_categorical_accuracy: 0.7500\n",
            "Epoch 19/50\n",
            "21/21 [==============================] - 0s 3ms/step - loss: 0.4391 - categorical_accuracy: 0.7988 - val_loss: 0.5016 - val_categorical_accuracy: 0.7570\n",
            "Epoch 20/50\n",
            "21/21 [==============================] - 0s 3ms/step - loss: 0.4073 - categorical_accuracy: 0.8109 - val_loss: 0.5203 - val_categorical_accuracy: 0.7958\n",
            "Epoch 21/50\n",
            "21/21 [==============================] - 0s 3ms/step - loss: 0.4086 - categorical_accuracy: 0.8048 - val_loss: 0.4529 - val_categorical_accuracy: 0.7958\n",
            "Epoch 22/50\n",
            "21/21 [==============================] - 0s 3ms/step - loss: 0.3919 - categorical_accuracy: 0.8200 - val_loss: 0.4623 - val_categorical_accuracy: 0.7993\n",
            "Epoch 23/50\n",
            "21/21 [==============================] - 0s 3ms/step - loss: 0.4259 - categorical_accuracy: 0.8048 - val_loss: 0.4890 - val_categorical_accuracy: 0.7711\n",
            "Epoch 24/50\n",
            "21/21 [==============================] - 0s 3ms/step - loss: 0.4005 - categorical_accuracy: 0.8124 - val_loss: 0.7231 - val_categorical_accuracy: 0.7606\n",
            "Epoch 25/50\n",
            "21/21 [==============================] - 0s 3ms/step - loss: 0.3822 - categorical_accuracy: 0.8260 - val_loss: 0.5074 - val_categorical_accuracy: 0.7746\n",
            "Epoch 26/50\n",
            "21/21 [==============================] - 0s 3ms/step - loss: 0.3887 - categorical_accuracy: 0.8185 - val_loss: 0.5241 - val_categorical_accuracy: 0.7993\n",
            "Epoch 27/50\n",
            "21/21 [==============================] - 0s 3ms/step - loss: 0.4069 - categorical_accuracy: 0.7912 - val_loss: 0.6209 - val_categorical_accuracy: 0.7817\n",
            "Epoch 28/50\n",
            "21/21 [==============================] - 0s 3ms/step - loss: 0.4109 - categorical_accuracy: 0.8079 - val_loss: 0.6777 - val_categorical_accuracy: 0.7958\n",
            "Epoch 29/50\n",
            "21/21 [==============================] - 0s 3ms/step - loss: 0.3728 - categorical_accuracy: 0.8321 - val_loss: 0.4933 - val_categorical_accuracy: 0.8063\n",
            "Epoch 30/50\n",
            "21/21 [==============================] - 0s 3ms/step - loss: 0.3856 - categorical_accuracy: 0.8200 - val_loss: 0.5550 - val_categorical_accuracy: 0.7887\n",
            "Epoch 31/50\n",
            "21/21 [==============================] - 0s 3ms/step - loss: 0.3575 - categorical_accuracy: 0.8275 - val_loss: 0.6562 - val_categorical_accuracy: 0.7711\n",
            "Epoch 32/50\n",
            "21/21 [==============================] - 0s 3ms/step - loss: 0.3532 - categorical_accuracy: 0.8185 - val_loss: 0.6790 - val_categorical_accuracy: 0.7711\n",
            "Epoch 33/50\n",
            "21/21 [==============================] - 0s 3ms/step - loss: 0.3104 - categorical_accuracy: 0.8472 - val_loss: 0.6281 - val_categorical_accuracy: 0.7852\n",
            "Epoch 34/50\n",
            "21/21 [==============================] - 0s 3ms/step - loss: 0.3547 - categorical_accuracy: 0.8260 - val_loss: 0.6077 - val_categorical_accuracy: 0.8063\n",
            "Epoch 35/50\n",
            "21/21 [==============================] - 0s 3ms/step - loss: 0.3519 - categorical_accuracy: 0.8275 - val_loss: 0.5152 - val_categorical_accuracy: 0.8169\n",
            "Epoch 36/50\n",
            "21/21 [==============================] - 0s 3ms/step - loss: 0.3182 - categorical_accuracy: 0.8336 - val_loss: 0.5593 - val_categorical_accuracy: 0.8169\n",
            "Epoch 37/50\n",
            "21/21 [==============================] - 0s 3ms/step - loss: 0.3169 - categorical_accuracy: 0.8608 - val_loss: 0.6520 - val_categorical_accuracy: 0.8345\n",
            "Epoch 38/50\n",
            "21/21 [==============================] - 0s 3ms/step - loss: 0.3113 - categorical_accuracy: 0.8729 - val_loss: 0.6673 - val_categorical_accuracy: 0.8169\n",
            "Epoch 39/50\n",
            "21/21 [==============================] - 0s 3ms/step - loss: 0.3326 - categorical_accuracy: 0.8457 - val_loss: 0.5485 - val_categorical_accuracy: 0.8380\n",
            "Epoch 40/50\n",
            "21/21 [==============================] - 0s 3ms/step - loss: 0.3078 - categorical_accuracy: 0.8699 - val_loss: 0.5768 - val_categorical_accuracy: 0.8521\n",
            "Epoch 41/50\n",
            "21/21 [==============================] - 0s 3ms/step - loss: 0.3440 - categorical_accuracy: 0.8457 - val_loss: 0.5415 - val_categorical_accuracy: 0.8204\n",
            "Epoch 42/50\n",
            "21/21 [==============================] - 0s 3ms/step - loss: 0.2752 - categorical_accuracy: 0.8805 - val_loss: 0.9987 - val_categorical_accuracy: 0.8204\n",
            "Epoch 43/50\n",
            "21/21 [==============================] - 0s 3ms/step - loss: 0.5281 - categorical_accuracy: 0.8230 - val_loss: 0.5111 - val_categorical_accuracy: 0.8099\n",
            "Epoch 44/50\n",
            "21/21 [==============================] - 0s 3ms/step - loss: 0.5000 - categorical_accuracy: 0.7428 - val_loss: 0.4834 - val_categorical_accuracy: 0.8310\n",
            "Epoch 45/50\n",
            "21/21 [==============================] - 0s 3ms/step - loss: 0.3762 - categorical_accuracy: 0.8517 - val_loss: 0.5243 - val_categorical_accuracy: 0.8380\n",
            "Epoch 46/50\n",
            "21/21 [==============================] - 0s 3ms/step - loss: 0.3466 - categorical_accuracy: 0.8396 - val_loss: 0.5444 - val_categorical_accuracy: 0.8310\n",
            "Epoch 47/50\n",
            "21/21 [==============================] - 0s 3ms/step - loss: 0.3870 - categorical_accuracy: 0.8200 - val_loss: 0.5488 - val_categorical_accuracy: 0.8345\n",
            "Epoch 48/50\n",
            "21/21 [==============================] - 0s 3ms/step - loss: 0.3223 - categorical_accuracy: 0.8563 - val_loss: 0.5248 - val_categorical_accuracy: 0.8451\n",
            "Epoch 49/50\n",
            "21/21 [==============================] - 0s 3ms/step - loss: 0.3162 - categorical_accuracy: 0.8669 - val_loss: 0.5200 - val_categorical_accuracy: 0.8451\n",
            "Epoch 50/50\n",
            "21/21 [==============================] - 0s 3ms/step - loss: 0.2521 - categorical_accuracy: 0.8986 - val_loss: 0.5951 - val_categorical_accuracy: 0.8556\n"
          ]
        },
        {
          "output_type": "execute_result",
          "data": {
            "text/plain": [
              "<tensorflow.python.training.tracking.util.CheckpointLoadStatus at 0x7f80366ae8d0>"
            ]
          },
          "metadata": {},
          "execution_count": 8
        }
      ]
    },
    {
      "cell_type": "code",
      "source": [
        "import matplotlib.pyplot as plt\n",
        "\n",
        "plt.plot(history.history['categorical_accuracy'])\n",
        "plt.plot(history.history['val_categorical_accuracy'])\n",
        "plt.title('model accuracy')\n",
        "plt.ylabel('accuracy')\n",
        "plt.xlabel('epoch')\n",
        "plt.legend(['train', 'test'], loc='upper left')\n",
        "plt.show()"
      ],
      "metadata": {
        "id": "yvJLeF9wiGIN",
        "colab": {
          "base_uri": "https://localhost:8080/",
          "height": 295
        },
        "outputId": "e4de2710-b82f-4ddb-d2ff-6034e5b9253e"
      },
      "execution_count": 9,
      "outputs": [
        {
          "output_type": "display_data",
          "data": {
            "text/plain": [
              "<Figure size 432x288 with 1 Axes>"
            ],
            "image/png": "[encoded data removed]"
          },
          "metadata": {
            "needs_background": "light"
          }
        }
      ]
    },
    {
      "cell_type": "code",
      "source": [
        "plt.plot(history.history['loss'])\n",
        "plt.plot(history.history['val_loss'])\n",
        "plt.title('model loss')\n",
        "plt.ylabel('loss')\n",
        "plt.xlabel('epoch')\n",
        "plt.legend(['train', 'test'], loc='upper left')\n",
        "plt.show()"
      ],
      "metadata": {
        "id": "CUpIRM6ZiXS-",
        "colab": {
          "base_uri": "https://localhost:8080/",
          "height": 295
        },
        "outputId": "a2df3cee-856e-49f1-b13a-beb2ab7969d8"
      },
      "execution_count": 10,
      "outputs": [
        {
          "output_type": "display_data",
          "data": {
            "text/plain": [
              "<Figure size 432x288 with 1 Axes>"
            ],
            "image/png": "[encoded data removed]"
          },
          "metadata": {
            "needs_background": "light"
          }
        }
      ]
    },
    {
      "cell_type": "code",
      "source": [
        "prediction_probability = model.predict(validationSet)\n",
        "chosen_classes = tf.argmax(prediction_probability, axis=1)\n",
        "labels = [\"Threat\" if idx == 1 else \"Carrying\" for idx in chosen_classes]\n",
        "\n",
        "model.evaluate(validationSet)"
      ],
      "metadata": {
        "colab": {
          "base_uri": "https://localhost:8080/"
        },
        "id": "5kcqofMAxXAd",
        "outputId": "4141d393-3edb-4066-a4ae-8c3c450f784b"
      },
      "execution_count": 12,
      "outputs": [
        {
          "output_type": "stream",
          "name": "stdout",
          "text": [
            "9/9 [==============================] - 0s 1ms/step - loss: 0.5951 - categorical_accuracy: 0.8556\n"
          ]
        },
        {
          "output_type": "execute_result",
          "data": {
            "text/plain": [
              "[0.5951245642370648, 0.8556338]"
            ]
          },
          "metadata": {},
          "execution_count": 12
        }
      ]
    },
    {
      "cell_type": "code",
      "source": [
        " from sklearn import metrics\n",
        " metrics.confusion_matrix(x_test, labels)"
      ],
      "metadata": {
        "id": "UfGJgutSx0Fa",
        "colab": {
          "base_uri": "https://localhost:8080/"
        },
        "outputId": "0b1ceb22-a807-44f8-8eec-5292482fc66c"
      },
      "execution_count": 13,
      "outputs": [
        {
          "output_type": "execute_result",
          "data": {
            "text/plain": [
              "array([[146,   0],\n",
              "       [138,   0]])"
            ]
          },
          "metadata": {},
          "execution_count": 13
        }
      ]
    },
    {
      "cell_type": "code",
      "source": [
        "model.save(\"/content/pose_estimator.h5\")"
      ],
      "metadata": {
        "id": "e5Bh__mQhIc7"
      },
      "execution_count": 14,
      "outputs": []
    }
  ]
}